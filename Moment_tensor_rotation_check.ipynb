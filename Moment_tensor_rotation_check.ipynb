{
 "cells": [
  {
   "cell_type": "code",
   "execution_count": 2,
   "metadata": {
    "collapsed": true
   },
   "outputs": [],
   "source": [
    "import numpy as np\n",
    "import scipy.stats as stats\n",
    "import scipy.linalg as linalg\n",
    "import matplotlib.pyplot as plt\n",
    "from mpmath import *\n",
    "from matplotlib.pyplot import figure, show, rc\n",
    "from mpl_toolkits.basemap import Basemap\n",
    "from mpl_toolkits.mplot3d import Axes3D\n",
    "from matplotlib.patches import FancyArrowPatch\n",
    "from mpl_toolkits.mplot3d import proj3d\n",
    "% matplotlib inline"
   ]
  },
  {
   "cell_type": "code",
   "execution_count": 3,
   "metadata": {
    "collapsed": true
   },
   "outputs": [],
   "source": [
    "class Arrow3D(FancyArrowPatch):\n",
    "    def __init__(self, xs, ys, zs, *args, **kwargs):\n",
    "        FancyArrowPatch.__init__(self, (0, 0), (0, 0), *args, **kwargs)\n",
    "        self._verts3d = xs, ys, zs\n",
    "\n",
    "    def draw(self, renderer):\n",
    "        xs3d, ys3d, zs3d = self._verts3d\n",
    "        xs, ys, zs = proj3d.proj_transform(xs3d, ys3d, zs3d, renderer.M)\n",
    "        self.set_positions((xs[0], ys[0]), (xs[1], ys[1]))\n",
    "        FancyArrowPatch.draw(self, renderer)"
   ]
  },
  {
   "cell_type": "code",
   "execution_count": 4,
   "metadata": {
    "collapsed": true
   },
   "outputs": [],
   "source": [
    "#Rotation matrix using Rodrigues Formula\n",
    "\n",
    "def rotation_matrix(axis, rotation_angle):\n",
    "    \n",
    "    #Normalize axis\n",
    "    \n",
    "    axis = np.array(axis)\n",
    "    axis_normalized = axis/np.sqrt(np.dot(axis.T, axis))\n",
    "    a = np.cos(rotation_angle/2)\n",
    "    b = -axis_normalized[0]*np.sin(rotation_angle/2)\n",
    "    c = -axis_normalized[1]*np.sin(rotation_angle/2)\n",
    "    d = -axis_normalized[2]*np.sin(rotation_angle/2)\n",
    "    rot_mat = np.array([[a**2+b**2-c**2-d**2, 2*(b*c-a*d), 2*(b*d+a*c)], \n",
    "                       [2*(b*c+a*d), a**2+c**2-b**2-d**2, 2*(c*d-a*b)],\n",
    "                      [2*(b*d-a*c), 2*(c*d+a*b), (a**2+d**2-b**2-c**2)]])\n",
    "    \n",
    "    return(rot_mat)"
   ]
  },
  {
   "cell_type": "code",
   "execution_count": 5,
   "metadata": {
    "collapsed": false
   },
   "outputs": [],
   "source": [
    "def stress_rotation(phi_mcs, theta_mcs, rho):\n",
    "\n",
    "    R_strike = rotation_matrix(np.array([0, 0 , 1]), phi_mcs)\n",
    "    R_dip = rotation_matrix(np.array([0, 1 , 0]), theta_mcs)\n",
    "    R_check = np.dot(R_dip, R_strike)\n",
    "    rho_axis = R_check[:, 0]\n",
    "    R_rho = rotation_matrix(-rho_axis, rho)\n",
    "    R_final = np.dot(R_rho, R_check)\n",
    "    \n",
    "    return R_final\n"
   ]
  },
  {
   "cell_type": "code",
   "execution_count": 6,
   "metadata": {
    "collapsed": false
   },
   "outputs": [],
   "source": [
    "def normalize(V):\n",
    "    \n",
    "    V_norm = V/np.sqrt(np.dot(V.T, V))\n",
    "    \n",
    "    return V_norm"
   ]
  },
  {
   "cell_type": "code",
   "execution_count": 49,
   "metadata": {
    "collapsed": false
   },
   "outputs": [],
   "source": [
    "N = np.array([-1, 0, 0])\n",
    "E = np.array([0, 1, 0])\n",
    "D = np.array([0, 0, -1])\n",
    "\n",
    "M = np.array([[0, 0, 0], [0, -1, 0], [0, 0, 1]])\n",
    "\n",
    "R1 = rotation_matrix([1, 0, 0], np.pi)\n",
    "R2 = rotation_matrix([0, 0, 1], np.pi)\n",
    "\n",
    "x = np.array([1, 0, 0])\n",
    "y = np.array([0, 1, 0])\n",
    "z = np.array([0, 0, 1])\n",
    "R = np.dot(R2, R1)\n",
    "Rinv = np.linalg.inv(R)\n",
    "\n",
    "xp = np.dot(R, x)\n",
    "yp = np.dot(R, y)\n",
    "zp = np.dot(R, z)\n",
    "\n",
    "\n",
    "phi = 0\n",
    "delta = np.pi/4\n",
    "lamda = np.pi/2\n",
    "\n",
    "fault_normal = np.array([-np.sin(delta)*np.sin(phi), np.sin(delta)*np.cos(phi), -np.cos(delta)])\n",
    "fault_slip = np.array([np.cos(lamda)*np.cos(phi)+np.cos(delta)*np.sin(lamda)*np.sin(phi), np.cos(lamda)\n",
    "                       *np.sin(phi)-np.cos(delta)*np.sin(lamda)*np.cos(phi), -(np.sin(delta)*np.sin(lamda))])\n",
    "null = np.cross(fault_normal, fault_slip)\n",
    "\n",
    "#print(fault_normal)\n",
    "#print(fault_slip)"
   ]
  },
  {
   "cell_type": "code",
   "execution_count": 50,
   "metadata": {
    "collapsed": false
   },
   "outputs": [
    {
     "name": "stdout",
     "output_type": "stream",
     "text": [
      "[[  1.00000000e+00   1.22464680e-16  -1.49975978e-32]\n",
      " [  0.00000000e+00  -1.00000000e+00   1.22464680e-16]\n",
      " [  0.00000000e+00   2.44929360e-16   1.00000000e+00]]\n"
     ]
    }
   ],
   "source": [
    "vals, V = np.linalg.eig(np.dot(np.dot(R, M), R.T))\n",
    "print(V)\n",
    "null = V[:, 0]\n",
    "T = V[:, 1]\n",
    "P = V[:, 2]"
   ]
  },
  {
   "cell_type": "code",
   "execution_count": 51,
   "metadata": {
    "collapsed": false
   },
   "outputs": [
    {
     "data": {
      "image/png": "[encoded data removed]",
      "text/plain": [
       "<matplotlib.figure.Figure at 0x7fc113211f60>"
      ]
     },
     "metadata": {},
     "output_type": "display_data"
    }
   ],
   "source": [
    "fig = plt.figure()\n",
    "ax = fig.add_subplot(111, projection='3d')\n",
    "\n",
    "\n",
    "ax.set_xlim([-1, 1])\n",
    "ax.set_ylim([-1, 1])\n",
    "ax.set_zlim([-1, 1])\n",
    "\n",
    "\n",
    "axis1 = Arrow3D([0, x[0]], [0, x[1]], [0, x[2]],mutation_scale=20, lw=1, arrowstyle=\"->\", color=\"k\")\n",
    "axis2 = Arrow3D([0, y[0]], [0, y[1]], [0, y[2]],mutation_scale=20, lw=1, arrowstyle=\"->\", color=\"k\")\n",
    "axis3 = Arrow3D([0, z[0]], [0, z[1]], [0, z[2]],mutation_scale=20, lw=1, arrowstyle=\"->\", color=\"k\")\n",
    "\n",
    "vector1 = Arrow3D([0, xp[0]], [0, xp[1]], [0, xp[2]],mutation_scale=20, lw=1, arrowstyle=\"->\", color=\"r\")\n",
    "vector2 = Arrow3D([0, yp[0]], [0, yp[1]], [0, yp[2]],mutation_scale=20, lw=1, arrowstyle=\"->\", color=\"g\")\n",
    "vector3 = Arrow3D([0, zp[0]], [0, zp[1]], [0, zp[2]],mutation_scale=20, lw=1, arrowstyle=\"->\", color=\"b\")\n",
    "\n",
    "ax.set_xlabel('x')\n",
    "ax.set_ylabel('y')\n",
    "ax.set_zlabel('z')\n",
    "\n",
    "ax.add_artist(axis1)\n",
    "ax.add_artist(axis2)\n",
    "ax.add_artist(axis3)\n",
    "\n",
    "ax.add_artist(vector1)\n",
    "ax.add_artist(vector2)\n",
    "ax.add_artist(vector3)\n",
    "\n",
    "ax.set_xticks([])\n",
    "ax.set_yticks([])\n",
    "ax.set_zticks([])\n",
    "\n",
    "ax.set_xlabel('North')\n",
    "ax.set_ylabel('East')\n",
    "ax.set_zlabel('Down')\n",
    "\n",
    "\n",
    "\n",
    "\n",
    "for angle in range(0, 30):\n",
    "    ax.view_init(30, angle)\n",
    "    plt.draw()\n",
    "\n",
    "\n",
    "plt.show()"
   ]
  },
  {
   "cell_type": "code",
   "execution_count": null,
   "metadata": {
    "collapsed": false
   },
   "outputs": [],
   "source": []
  },
  {
   "cell_type": "code",
   "execution_count": 30,
   "metadata": {
    "collapsed": true
   },
   "outputs": [],
   "source": [
    "def trend_plunge(vec):\n",
    "    \n",
    "    vec = np.array(vec)\n",
    "    trend = np.arctan2(vec[1], vec[0])*180/np.pi\n",
    "    plunge = np.arctan2(-vec[2], np.sqrt(vec[1]**2+vec[0]**2))*180/np.pi\n",
    "    \n",
    "    return trend, plunge\n",
    "    "
   ]
  },
  {
   "cell_type": "code",
   "execution_count": 31,
   "metadata": {
    "collapsed": false
   },
   "outputs": [
    {
     "name": "stdout",
     "output_type": "stream",
     "text": [
      "[ 1.  0.  0.]\n",
      "[ 0.  1.  0.]\n",
      "[ 0.  0.  1.]\n"
     ]
    }
   ],
   "source": [
    "t_1, p_1 = trend_plunge([-1, 0, 0])\n",
    "t_2, p_2 = trend_plunge([0, 0, -1])\n",
    "t_3, p_3 = trend_plunge([0, 1, 0])\n",
    "\n",
    "print(null)\n",
    "print(T)\n",
    "print(P)\n",
    "\n",
    "t_null, p_null = trend_plunge(null)\n",
    "t_T, p_T = trend_plunge(T)\n",
    "t_P, p_P = trend_plunge(P)"
   ]
  },
  {
   "cell_type": "code",
   "execution_count": 32,
   "metadata": {
    "collapsed": false
   },
   "outputs": [
    {
     "name": "stdout",
     "output_type": "stream",
     "text": [
      "0.0 -0.0\n",
      "90.0 -0.0\n",
      "0.0 -90.0\n"
     ]
    }
   ],
   "source": [
    "print(t_null, p_null)\n",
    "print(t_T, p_T)\n",
    "print(t_P, p_P)"
   ]
  },
  {
   "cell_type": "code",
   "execution_count": null,
   "metadata": {
    "collapsed": true
   },
   "outputs": [],
   "source": []
  },
  {
   "cell_type": "code",
   "execution_count": null,
   "metadata": {
    "collapsed": true
   },
   "outputs": [],
   "source": []
  }
 ],
 "metadata": {
  "anaconda-cloud": {},
  "kernelspec": {
   "display_name": "Python [default]",
   "language": "python",
   "name": "python3"
  },
  "language_info": {
   "codemirror_mode": {
    "name": "ipython",
    "version": 3
   },
   "file_extension": ".py",
   "mimetype": "text/x-python",
   "name": "python",
   "nbconvert_exporter": "python",
   "pygments_lexer": "ipython3",
   "version": "3.5.2"
  }
 },
 "nbformat": 4,
 "nbformat_minor": 1
}
