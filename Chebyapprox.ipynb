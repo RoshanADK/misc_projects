{
 "cells": [
  {
   "cell_type": "code",
   "execution_count": 11,
   "metadata": {
    "collapsed": true
   },
   "outputs": [],
   "source": [
    "import numpy as np\n",
    "import matplotlib.pyplot as plt\n",
    "from matplotlib import rc\n",
    "rc('font',**{'family':'sans-serif','sans-serif':['Helvetica']})\n",
    "rc('text', usetex=True)\n",
    "%matplotlib inline"
   ]
  },
  {
   "cell_type": "code",
   "execution_count": 12,
   "metadata": {
    "collapsed": false
   },
   "outputs": [],
   "source": [
    "def func(x_input):\n",
    "        \n",
    "    funct = np.matrix(np.sqrt(1-x_input**2)).T\n",
    "        \n",
    "    return funct"
   ]
  },
  {
   "cell_type": "code",
   "execution_count": 13,
   "metadata": {
    "collapsed": false
   },
   "outputs": [],
   "source": [
    "def chebapprox(N):\n",
    "    \n",
    "    theta = np.linspace(0, np.pi, N)\n",
    "\n",
    "    G = np.zeros((N, N))\n",
    "\n",
    "    interpolation_points = func(np.cos(theta))\n",
    "\n",
    "\n",
    "    for i in range(N):\n",
    "\n",
    "        for j in range(N):\n",
    "\n",
    "            G[i, j] = np.cos(i*theta[j])\n",
    "\n",
    "    G = np.asmatrix(G)\n",
    "    G_inv = np.linalg.inv(G)\n",
    "\n",
    "\n",
    "    spectral_coeff = G_inv*interpolation_points\n",
    "\n",
    "    \n",
    "    return spectral_coeff\n",
    " \n",
    "\n",
    "\n",
    "        \n",
    "        \n",
    "        "
   ]
  },
  {
   "cell_type": "code",
   "execution_count": 14,
   "metadata": {
    "collapsed": false
   },
   "outputs": [],
   "source": [
    "def chebshev(N, x):\n",
    "\n",
    "    order = N\n",
    "    \n",
    "    length = len(x)\n",
    "    \n",
    "    T_matrix = np.zeros((N, length))\n",
    "\n",
    "    for i in range(order):\n",
    "    \n",
    "        if i == 0:\n",
    "\n",
    "            T_matrix[0, :] = 1\n",
    "\n",
    "        elif i ==1:\n",
    "\n",
    "            T_matrix[i, :] = x\n",
    "\n",
    "        else:\n",
    "\n",
    "            T_matrix[i, :] = 2* x * T_matrix[i-1, :] - T_matrix[i-2, :]\n",
    "            \n",
    "    return T_matrix\n",
    "\n"
   ]
  },
  {
   "cell_type": "code",
   "execution_count": 15,
   "metadata": {
    "collapsed": false
   },
   "outputs": [],
   "source": [
    "N = 15\n",
    "spectral_coefficients = chebapprox(N)\n",
    "\n",
    "x_cheby = np.linspace(-1, 1, 1000)\n",
    "x_obs = np.linspace(-1, 1, N)\n",
    "\n",
    "chebys = chebshev(N, x_cheby)\n",
    "interpolated_function = chebys.T*spectral_coefficients"
   ]
  },
  {
   "cell_type": "code",
   "execution_count": 16,
   "metadata": {
    "collapsed": false
   },
   "outputs": [
    {
     "data": {
      "image/png": "[encoded data removed]",
      "text/plain": [
       "<matplotlib.figure.Figure at 0x10e7d8278>"
      ]
     },
     "metadata": {},
     "output_type": "display_data"
    }
   ],
   "source": [
    "plt.plot(x_obs, func(x_obs), 'o', alpha = 0.6)\n",
    "plt.plot(x_cheby, interpolated_function, 'r-', label = 'Chebyshev Approximation')\n",
    "plt.plot(x_cheby, func(x_cheby), 'k--', label = 'Analytical Solution')\n",
    "\n",
    "\n",
    "\n",
    "plt.xlim([-1.25, 1.25])\n",
    "\n",
    "plt.xlabel('$x$')\n",
    "plt.ylabel('$f(x)$')\n",
    "plt.title(r'Approxmation of $f(x)=x^{4}$')\n",
    "plt.legend(loc = 0)\n",
    "plt.show()\n"
   ]
  },
  {
   "cell_type": "code",
   "execution_count": null,
   "metadata": {
    "collapsed": true
   },
   "outputs": [],
   "source": []
  },
  {
   "cell_type": "code",
   "execution_count": null,
   "metadata": {
    "collapsed": true
   },
   "outputs": [],
   "source": []
  }
 ],
 "metadata": {
  "anaconda-cloud": {},
  "kernelspec": {
   "display_name": "Python [conda root]",
   "language": "python",
   "name": "conda-root-py"
  },
  "language_info": {
   "codemirror_mode": {
    "name": "ipython",
    "version": 3
   },
   "file_extension": ".py",
   "mimetype": "text/x-python",
   "name": "python",
   "nbconvert_exporter": "python",
   "pygments_lexer": "ipython3",
   "version": "3.5.2"
  }
 },
 "nbformat": 4,
 "nbformat_minor": 1
}
